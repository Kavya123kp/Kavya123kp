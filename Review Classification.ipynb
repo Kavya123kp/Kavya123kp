{
 "cells": [
  {
   "cell_type": "code",
   "execution_count": 1,
   "metadata": {},
   "outputs": [],
   "source": [
    "import pandas as pd\n",
    "import numpy as np\n",
    "\n",
    "import seaborn as sns\n",
    "import matplotlib.pyplot as plt\n",
    "from sklearn.preprocessing import LabelEncoder, StandardScaler \n",
    "from sklearn.model_selection import train_test_split, GridSearchCV\n",
    "from sklearn.ensemble import RandomForestClassifier\n",
    "from xgboost import XGBClassifier\n",
    "from sklearn.linear_model import LogisticRegression\n",
    "from sklearn.metrics import confusion_matrix,classification_report\n",
    "from imblearn.over_sampling import SMOTE\n",
    "from sklearn.metrics import roc_auc_score,accuracy_score\n",
    "from sklearn.neighbors import KNeighborsClassifier\n",
    "\n",
    "\n",
    "pd.set_option('display.max_rows', 500)\n",
    "pd.set_option('display.max_columns', 500)"
   ]
  },
  {
   "cell_type": "code",
   "execution_count": 2,
   "metadata": {},
   "outputs": [],
   "source": [
    "import warnings \n",
    "warnings.filterwarnings('ignore')"
   ]
  },
  {
   "cell_type": "code",
   "execution_count": 3,
   "metadata": {},
   "outputs": [],
   "source": [
    "from datetime import datetime\n",
    "from sklearn.feature_extraction.text import TfidfVectorizer, CountVectorizer\n",
    "from sklearn.naive_bayes import MultinomialNB"
   ]
  },
  {
   "cell_type": "code",
   "execution_count": 4,
   "metadata": {},
   "outputs": [],
   "source": [
    "Reviews = pd.read_csv('Reviews.csv')"
   ]
  },
  {
   "cell_type": "code",
   "execution_count": 5,
   "metadata": {},
   "outputs": [
    {
     "data": {
      "text/html": [
       "<div>\n",
       "<style scoped>\n",
       "    .dataframe tbody tr th:only-of-type {\n",
       "        vertical-align: middle;\n",
       "    }\n",
       "\n",
       "    .dataframe tbody tr th {\n",
       "        vertical-align: top;\n",
       "    }\n",
       "\n",
       "    .dataframe thead th {\n",
       "        text-align: right;\n",
       "    }\n",
       "</style>\n",
       "<table border=\"1\" class=\"dataframe\">\n",
       "  <thead>\n",
       "    <tr style=\"text-align: right;\">\n",
       "      <th></th>\n",
       "      <th>Id</th>\n",
       "      <th>ProductId</th>\n",
       "      <th>UserId</th>\n",
       "      <th>ProfileName</th>\n",
       "      <th>HelpfulnessNumerator</th>\n",
       "      <th>HelpfulnessDenominator</th>\n",
       "      <th>Score</th>\n",
       "      <th>Time</th>\n",
       "      <th>Summary</th>\n",
       "      <th>Text</th>\n",
       "    </tr>\n",
       "  </thead>\n",
       "  <tbody>\n",
       "    <tr>\n",
       "      <th>0</th>\n",
       "      <td>1</td>\n",
       "      <td>B001E4KFG0</td>\n",
       "      <td>A3SGXH7AUHU8GW</td>\n",
       "      <td>delmartian</td>\n",
       "      <td>1</td>\n",
       "      <td>1</td>\n",
       "      <td>5</td>\n",
       "      <td>1303862400</td>\n",
       "      <td>Good Quality Dog Food</td>\n",
       "      <td>I have bought several of the Vitality canned d...</td>\n",
       "    </tr>\n",
       "    <tr>\n",
       "      <th>1</th>\n",
       "      <td>2</td>\n",
       "      <td>B00813GRG4</td>\n",
       "      <td>A1D87F6ZCVE5NK</td>\n",
       "      <td>dll pa</td>\n",
       "      <td>0</td>\n",
       "      <td>0</td>\n",
       "      <td>1</td>\n",
       "      <td>1346976000</td>\n",
       "      <td>Not as Advertised</td>\n",
       "      <td>Product arrived labeled as Jumbo Salted Peanut...</td>\n",
       "    </tr>\n",
       "    <tr>\n",
       "      <th>2</th>\n",
       "      <td>3</td>\n",
       "      <td>B000LQOCH0</td>\n",
       "      <td>ABXLMWJIXXAIN</td>\n",
       "      <td>Natalia Corres \"Natalia Corres\"</td>\n",
       "      <td>1</td>\n",
       "      <td>1</td>\n",
       "      <td>4</td>\n",
       "      <td>1219017600</td>\n",
       "      <td>\"Delight\" says it all</td>\n",
       "      <td>This is a confection that has been around a fe...</td>\n",
       "    </tr>\n",
       "    <tr>\n",
       "      <th>3</th>\n",
       "      <td>4</td>\n",
       "      <td>B000UA0QIQ</td>\n",
       "      <td>A395BORC6FGVXV</td>\n",
       "      <td>Karl</td>\n",
       "      <td>3</td>\n",
       "      <td>3</td>\n",
       "      <td>2</td>\n",
       "      <td>1307923200</td>\n",
       "      <td>Cough Medicine</td>\n",
       "      <td>If you are looking for the secret ingredient i...</td>\n",
       "    </tr>\n",
       "    <tr>\n",
       "      <th>4</th>\n",
       "      <td>5</td>\n",
       "      <td>B006K2ZZ7K</td>\n",
       "      <td>A1UQRSCLF8GW1T</td>\n",
       "      <td>Michael D. Bigham \"M. Wassir\"</td>\n",
       "      <td>0</td>\n",
       "      <td>0</td>\n",
       "      <td>5</td>\n",
       "      <td>1350777600</td>\n",
       "      <td>Great taffy</td>\n",
       "      <td>Great taffy at a great price.  There was a wid...</td>\n",
       "    </tr>\n",
       "  </tbody>\n",
       "</table>\n",
       "</div>"
      ],
      "text/plain": [
       "   Id   ProductId          UserId                      ProfileName  \\\n",
       "0   1  B001E4KFG0  A3SGXH7AUHU8GW                       delmartian   \n",
       "1   2  B00813GRG4  A1D87F6ZCVE5NK                           dll pa   \n",
       "2   3  B000LQOCH0   ABXLMWJIXXAIN  Natalia Corres \"Natalia Corres\"   \n",
       "3   4  B000UA0QIQ  A395BORC6FGVXV                             Karl   \n",
       "4   5  B006K2ZZ7K  A1UQRSCLF8GW1T    Michael D. Bigham \"M. Wassir\"   \n",
       "\n",
       "   HelpfulnessNumerator  HelpfulnessDenominator  Score        Time  \\\n",
       "0                     1                       1      5  1303862400   \n",
       "1                     0                       0      1  1346976000   \n",
       "2                     1                       1      4  1219017600   \n",
       "3                     3                       3      2  1307923200   \n",
       "4                     0                       0      5  1350777600   \n",
       "\n",
       "                 Summary                                               Text  \n",
       "0  Good Quality Dog Food  I have bought several of the Vitality canned d...  \n",
       "1      Not as Advertised  Product arrived labeled as Jumbo Salted Peanut...  \n",
       "2  \"Delight\" says it all  This is a confection that has been around a fe...  \n",
       "3         Cough Medicine  If you are looking for the secret ingredient i...  \n",
       "4            Great taffy  Great taffy at a great price.  There was a wid...  "
      ]
     },
     "execution_count": 5,
     "metadata": {},
     "output_type": "execute_result"
    }
   ],
   "source": [
    "Reviews.head()"
   ]
  },
  {
   "cell_type": "code",
   "execution_count": 6,
   "metadata": {},
   "outputs": [
    {
     "data": {
      "text/plain": [
       "Id                         0\n",
       "ProductId                  0\n",
       "UserId                     0\n",
       "ProfileName               16\n",
       "HelpfulnessNumerator       0\n",
       "HelpfulnessDenominator     0\n",
       "Score                      0\n",
       "Time                       0\n",
       "Summary                   27\n",
       "Text                       0\n",
       "dtype: int64"
      ]
     },
     "execution_count": 6,
     "metadata": {},
     "output_type": "execute_result"
    }
   ],
   "source": [
    "Reviews.isnull().sum()"
   ]
  },
  {
   "cell_type": "code",
   "execution_count": 7,
   "metadata": {},
   "outputs": [
    {
     "data": {
      "text/plain": [
       "(568454, 10)"
      ]
     },
     "execution_count": 7,
     "metadata": {},
     "output_type": "execute_result"
    }
   ],
   "source": [
    "Reviews.shape"
   ]
  },
  {
   "cell_type": "code",
   "execution_count": 8,
   "metadata": {},
   "outputs": [
    {
     "data": {
      "text/html": [
       "<div>\n",
       "<style scoped>\n",
       "    .dataframe tbody tr th:only-of-type {\n",
       "        vertical-align: middle;\n",
       "    }\n",
       "\n",
       "    .dataframe tbody tr th {\n",
       "        vertical-align: top;\n",
       "    }\n",
       "\n",
       "    .dataframe thead th {\n",
       "        text-align: right;\n",
       "    }\n",
       "</style>\n",
       "<table border=\"1\" class=\"dataframe\">\n",
       "  <thead>\n",
       "    <tr style=\"text-align: right;\">\n",
       "      <th></th>\n",
       "      <th>Id</th>\n",
       "      <th>HelpfulnessNumerator</th>\n",
       "      <th>HelpfulnessDenominator</th>\n",
       "      <th>Score</th>\n",
       "      <th>Time</th>\n",
       "    </tr>\n",
       "  </thead>\n",
       "  <tbody>\n",
       "    <tr>\n",
       "      <th>count</th>\n",
       "      <td>568454.000000</td>\n",
       "      <td>568454.000000</td>\n",
       "      <td>568454.00000</td>\n",
       "      <td>568454.000000</td>\n",
       "      <td>5.684540e+05</td>\n",
       "    </tr>\n",
       "    <tr>\n",
       "      <th>mean</th>\n",
       "      <td>284227.500000</td>\n",
       "      <td>1.743817</td>\n",
       "      <td>2.22881</td>\n",
       "      <td>4.183199</td>\n",
       "      <td>1.296257e+09</td>\n",
       "    </tr>\n",
       "    <tr>\n",
       "      <th>std</th>\n",
       "      <td>164098.679298</td>\n",
       "      <td>7.636513</td>\n",
       "      <td>8.28974</td>\n",
       "      <td>1.310436</td>\n",
       "      <td>4.804331e+07</td>\n",
       "    </tr>\n",
       "    <tr>\n",
       "      <th>min</th>\n",
       "      <td>1.000000</td>\n",
       "      <td>0.000000</td>\n",
       "      <td>0.00000</td>\n",
       "      <td>1.000000</td>\n",
       "      <td>9.393408e+08</td>\n",
       "    </tr>\n",
       "    <tr>\n",
       "      <th>25%</th>\n",
       "      <td>142114.250000</td>\n",
       "      <td>0.000000</td>\n",
       "      <td>0.00000</td>\n",
       "      <td>4.000000</td>\n",
       "      <td>1.271290e+09</td>\n",
       "    </tr>\n",
       "    <tr>\n",
       "      <th>50%</th>\n",
       "      <td>284227.500000</td>\n",
       "      <td>0.000000</td>\n",
       "      <td>1.00000</td>\n",
       "      <td>5.000000</td>\n",
       "      <td>1.311120e+09</td>\n",
       "    </tr>\n",
       "    <tr>\n",
       "      <th>75%</th>\n",
       "      <td>426340.750000</td>\n",
       "      <td>2.000000</td>\n",
       "      <td>2.00000</td>\n",
       "      <td>5.000000</td>\n",
       "      <td>1.332720e+09</td>\n",
       "    </tr>\n",
       "    <tr>\n",
       "      <th>max</th>\n",
       "      <td>568454.000000</td>\n",
       "      <td>866.000000</td>\n",
       "      <td>923.00000</td>\n",
       "      <td>5.000000</td>\n",
       "      <td>1.351210e+09</td>\n",
       "    </tr>\n",
       "  </tbody>\n",
       "</table>\n",
       "</div>"
      ],
      "text/plain": [
       "                  Id  HelpfulnessNumerator  HelpfulnessDenominator  \\\n",
       "count  568454.000000         568454.000000            568454.00000   \n",
       "mean   284227.500000              1.743817                 2.22881   \n",
       "std    164098.679298              7.636513                 8.28974   \n",
       "min         1.000000              0.000000                 0.00000   \n",
       "25%    142114.250000              0.000000                 0.00000   \n",
       "50%    284227.500000              0.000000                 1.00000   \n",
       "75%    426340.750000              2.000000                 2.00000   \n",
       "max    568454.000000            866.000000               923.00000   \n",
       "\n",
       "               Score          Time  \n",
       "count  568454.000000  5.684540e+05  \n",
       "mean        4.183199  1.296257e+09  \n",
       "std         1.310436  4.804331e+07  \n",
       "min         1.000000  9.393408e+08  \n",
       "25%         4.000000  1.271290e+09  \n",
       "50%         5.000000  1.311120e+09  \n",
       "75%         5.000000  1.332720e+09  \n",
       "max         5.000000  1.351210e+09  "
      ]
     },
     "execution_count": 8,
     "metadata": {},
     "output_type": "execute_result"
    }
   ],
   "source": [
    "Reviews.describe()"
   ]
  },
  {
   "cell_type": "markdown",
   "metadata": {},
   "source": [
    "- We have Null values in ProfileName and Summary column\n",
    "- Number of rows are 568454"
   ]
  },
  {
   "cell_type": "code",
   "execution_count": null,
   "metadata": {},
   "outputs": [],
   "source": []
  },
  {
   "cell_type": "code",
   "execution_count": 9,
   "metadata": {},
   "outputs": [
    {
     "data": {
      "text/plain": [
       "<matplotlib.axes._subplots.AxesSubplot at 0x2023aff9470>"
      ]
     },
     "execution_count": 9,
     "metadata": {},
     "output_type": "execute_result"
    },
    {
     "data": {
      "image/png": "[encoded data removed]",
      "text/plain": [
       "<Figure size 432x288 with 1 Axes>"
      ]
     },
     "metadata": {
      "needs_background": "light"
     },
     "output_type": "display_data"
    }
   ],
   "source": [
    "sns.countplot(x=Reviews[\"Score\"],  data=Reviews, order = Reviews[\"Score\"].value_counts().index )"
   ]
  },
  {
   "cell_type": "code",
   "execution_count": 10,
   "metadata": {},
   "outputs": [
    {
     "data": {
      "text/plain": [
       "B007JFMH8M    913\n",
       "B002QWHJOU    632\n",
       "B0026RQTGE    632\n",
       "B002QWP89S    632\n",
       "B002QWP8H0    632\n",
       "             ... \n",
       "B002PJ24NU      1\n",
       "B0078DS4YG      1\n",
       "B0048IC96I      1\n",
       "B005EMQAN0      1\n",
       "B007HP6GN6      1\n",
       "Name: ProductId, Length: 74258, dtype: int64"
      ]
     },
     "execution_count": 10,
     "metadata": {},
     "output_type": "execute_result"
    }
   ],
   "source": [
    "Reviews['ProductId'].value_counts()"
   ]
  },
  {
   "cell_type": "code",
   "execution_count": 11,
   "metadata": {},
   "outputs": [
    {
     "data": {
      "text/plain": [
       "<matplotlib.axes._subplots.AxesSubplot at 0x2023b51dcc0>"
      ]
     },
     "execution_count": 11,
     "metadata": {},
     "output_type": "execute_result"
    },
    {
     "data": {
      "image/png": "[encoded data removed]",
      "text/plain": [
       "<Figure size 1152x360 with 1 Axes>"
      ]
     },
     "metadata": {
      "needs_background": "light"
     },
     "output_type": "display_data"
    }
   ],
   "source": [
    "df = Reviews[Reviews['ProductId'].isin(['B007JFMH8M', 'B0026RQTGE','B002QWP89S',\n",
    "                                  'B002QWHJOU','B002QWP8H0'])].groupby(['ProductId','Score']).size().reset_index()\n",
    "plt.figure(figsize=(16,5))\n",
    "sns.barplot(x='ProductId',  data=df, y = 0 , hue = 'Score' )"
   ]
  },
  {
   "cell_type": "markdown",
   "metadata": {},
   "source": []
  },
  {
   "cell_type": "markdown",
   "metadata": {},
   "source": [
    "- Above bargraph shows the products with highest reviews, most of them are high rated"
   ]
  },
  {
   "cell_type": "code",
   "execution_count": null,
   "metadata": {},
   "outputs": [],
   "source": []
  },
  {
   "cell_type": "code",
   "execution_count": 12,
   "metadata": {},
   "outputs": [],
   "source": [
    "Reviews['Date'] = Reviews['Time'].apply(lambda x :datetime.fromtimestamp(x))\n",
    "Reviews['weekDay_Time'] = Reviews.Date.dt.weekday\n",
    "Reviews['month'] = Reviews.Date.dt.month\n",
    "Reviews['quarter'] = Reviews.Date.dt.quarter"
   ]
  },
  {
   "cell_type": "code",
   "execution_count": 13,
   "metadata": {},
   "outputs": [
    {
     "data": {
      "text/plain": [
       "<matplotlib.axes._subplots.AxesSubplot at 0x2023ba08e80>"
      ]
     },
     "execution_count": 13,
     "metadata": {},
     "output_type": "execute_result"
    },
    {
     "data": {
      "image/png": "[encoded data removed]",
      "text/plain": [
       "<Figure size 432x288 with 1 Axes>"
      ]
     },
     "metadata": {
      "needs_background": "light"
     },
     "output_type": "display_data"
    }
   ],
   "source": [
    "sns.countplot(data=Reviews, x='month')"
   ]
  },
  {
   "cell_type": "code",
   "execution_count": 14,
   "metadata": {},
   "outputs": [
    {
     "data": {
      "text/plain": [
       "<matplotlib.axes._subplots.AxesSubplot at 0x2023bfccb00>"
      ]
     },
     "execution_count": 14,
     "metadata": {},
     "output_type": "execute_result"
    },
    {
     "data": {
      "image/png": "[encoded data removed]",
      "text/plain": [
       "<Figure size 432x288 with 1 Axes>"
      ]
     },
     "metadata": {
      "needs_background": "light"
     },
     "output_type": "display_data"
    }
   ],
   "source": [
    "sns.countplot(data=Reviews, x='weekDay_Time')"
   ]
  },
  {
   "cell_type": "code",
   "execution_count": 15,
   "metadata": {},
   "outputs": [
    {
     "data": {
      "text/plain": [
       "<matplotlib.axes._subplots.AxesSubplot at 0x2023c03bac8>"
      ]
     },
     "execution_count": 15,
     "metadata": {},
     "output_type": "execute_result"
    },
    {
     "data": {
      "image/png": "[encoded data removed]",
      "text/plain": [
       "<Figure size 432x288 with 1 Axes>"
      ]
     },
     "metadata": {
      "needs_background": "light"
     },
     "output_type": "display_data"
    }
   ],
   "source": [
    "sns.countplot(data=Reviews, x='quarter')"
   ]
  },
  {
   "cell_type": "markdown",
   "metadata": {},
   "source": [
    "Some basic stats on time of review"
   ]
  },
  {
   "cell_type": "code",
   "execution_count": null,
   "metadata": {},
   "outputs": [],
   "source": []
  },
  {
   "cell_type": "markdown",
   "metadata": {},
   "source": [
    "Lets process the text and extract some features from the text"
   ]
  },
  {
   "cell_type": "code",
   "execution_count": 16,
   "metadata": {},
   "outputs": [],
   "source": [
    "Rating = Reviews[['Score', 'Text']]"
   ]
  },
  {
   "cell_type": "code",
   "execution_count": 17,
   "metadata": {},
   "outputs": [],
   "source": [
    "Rating = Rating.drop_duplicates('Text')\n",
    "Rating = Rating.reset_index(drop=True)"
   ]
  },
  {
   "cell_type": "code",
   "execution_count": 18,
   "metadata": {},
   "outputs": [
    {
     "data": {
      "text/plain": [
       "<matplotlib.axes._subplots.AxesSubplot at 0x2023c1332b0>"
      ]
     },
     "execution_count": 18,
     "metadata": {},
     "output_type": "execute_result"
    },
    {
     "data": {
      "image/png": "[encoded data removed]",
      "text/plain": [
       "<Figure size 432x288 with 1 Axes>"
      ]
     },
     "metadata": {
      "needs_background": "light"
     },
     "output_type": "display_data"
    }
   ],
   "source": [
    "Rating['Text'].apply(lambda x:len(x.split(' '))).plot(kind='hist')"
   ]
  },
  {
   "cell_type": "markdown",
   "metadata": {},
   "source": [
    "- Most of reviews are of length less than 250 to 300, these text reviews mostly follow power law distribution"
   ]
  },
  {
   "cell_type": "code",
   "execution_count": 19,
   "metadata": {},
   "outputs": [],
   "source": [
    "import re"
   ]
  },
  {
   "cell_type": "code",
   "execution_count": 20,
   "metadata": {},
   "outputs": [],
   "source": [
    "from nltk.corpus import stopwords\n",
    "stopword = set(stopwords.words('english'))\n",
    "def remove_stopwords(text):\n",
    "    return \" \".join([word for word in str(text).split() if word not in stopword])"
   ]
  },
  {
   "cell_type": "code",
   "execution_count": 21,
   "metadata": {},
   "outputs": [],
   "source": [
    "def remove_urls(text):\n",
    "    url_pattern = re.compile(r'https?://\\S+|www\\.\\S+')\n",
    "    return url_pattern.sub(r'', text)"
   ]
  },
  {
   "cell_type": "code",
   "execution_count": 22,
   "metadata": {},
   "outputs": [
    {
     "data": {
      "text/html": [
       "<div>\n",
       "<style scoped>\n",
       "    .dataframe tbody tr th:only-of-type {\n",
       "        vertical-align: middle;\n",
       "    }\n",
       "\n",
       "    .dataframe tbody tr th {\n",
       "        vertical-align: top;\n",
       "    }\n",
       "\n",
       "    .dataframe thead th {\n",
       "        text-align: right;\n",
       "    }\n",
       "</style>\n",
       "<table border=\"1\" class=\"dataframe\">\n",
       "  <thead>\n",
       "    <tr style=\"text-align: right;\">\n",
       "      <th></th>\n",
       "      <th>Score</th>\n",
       "      <th>Text</th>\n",
       "    </tr>\n",
       "  </thead>\n",
       "  <tbody>\n",
       "    <tr>\n",
       "      <th>0</th>\n",
       "      <td>5</td>\n",
       "      <td>I bought several Vitality canned dog food prod...</td>\n",
       "    </tr>\n",
       "    <tr>\n",
       "      <th>1</th>\n",
       "      <td>1</td>\n",
       "      <td>Product arrived labeled Jumbo Salted Peanuts.....</td>\n",
       "    </tr>\n",
       "    <tr>\n",
       "      <th>2</th>\n",
       "      <td>4</td>\n",
       "      <td>This confection around centuries. It light, pi...</td>\n",
       "    </tr>\n",
       "    <tr>\n",
       "      <th>3</th>\n",
       "      <td>2</td>\n",
       "      <td>If looking secret ingredient Robitussin I beli...</td>\n",
       "    </tr>\n",
       "    <tr>\n",
       "      <th>4</th>\n",
       "      <td>5</td>\n",
       "      <td>Great taffy great price. There wide assortment...</td>\n",
       "    </tr>\n",
       "  </tbody>\n",
       "</table>\n",
       "</div>"
      ],
      "text/plain": [
       "   Score                                               Text\n",
       "0      5  I bought several Vitality canned dog food prod...\n",
       "1      1  Product arrived labeled Jumbo Salted Peanuts.....\n",
       "2      4  This confection around centuries. It light, pi...\n",
       "3      2  If looking secret ingredient Robitussin I beli...\n",
       "4      5  Great taffy great price. There wide assortment..."
      ]
     },
     "execution_count": 22,
     "metadata": {},
     "output_type": "execute_result"
    }
   ],
   "source": [
    "Rating['Text'] = Rating['Text'].apply(lambda text: remove_stopwords(text))\n",
    "Rating.head()"
   ]
  },
  {
   "cell_type": "code",
   "execution_count": 23,
   "metadata": {},
   "outputs": [
    {
     "data": {
      "text/html": [
       "<div>\n",
       "<style scoped>\n",
       "    .dataframe tbody tr th:only-of-type {\n",
       "        vertical-align: middle;\n",
       "    }\n",
       "\n",
       "    .dataframe tbody tr th {\n",
       "        vertical-align: top;\n",
       "    }\n",
       "\n",
       "    .dataframe thead th {\n",
       "        text-align: right;\n",
       "    }\n",
       "</style>\n",
       "<table border=\"1\" class=\"dataframe\">\n",
       "  <thead>\n",
       "    <tr style=\"text-align: right;\">\n",
       "      <th></th>\n",
       "      <th>Score</th>\n",
       "      <th>Text</th>\n",
       "    </tr>\n",
       "  </thead>\n",
       "  <tbody>\n",
       "    <tr>\n",
       "      <th>0</th>\n",
       "      <td>5</td>\n",
       "      <td>I bought several Vitality canned dog food prod...</td>\n",
       "    </tr>\n",
       "    <tr>\n",
       "      <th>1</th>\n",
       "      <td>1</td>\n",
       "      <td>Product arrived labeled Jumbo Salted Peanuts.....</td>\n",
       "    </tr>\n",
       "    <tr>\n",
       "      <th>2</th>\n",
       "      <td>4</td>\n",
       "      <td>This confection around centuries. It light, pi...</td>\n",
       "    </tr>\n",
       "    <tr>\n",
       "      <th>3</th>\n",
       "      <td>2</td>\n",
       "      <td>If looking secret ingredient Robitussin I beli...</td>\n",
       "    </tr>\n",
       "    <tr>\n",
       "      <th>4</th>\n",
       "      <td>5</td>\n",
       "      <td>Great taffy great price. There wide assortment...</td>\n",
       "    </tr>\n",
       "  </tbody>\n",
       "</table>\n",
       "</div>"
      ],
      "text/plain": [
       "   Score                                               Text\n",
       "0      5  I bought several Vitality canned dog food prod...\n",
       "1      1  Product arrived labeled Jumbo Salted Peanuts.....\n",
       "2      4  This confection around centuries. It light, pi...\n",
       "3      2  If looking secret ingredient Robitussin I beli...\n",
       "4      5  Great taffy great price. There wide assortment..."
      ]
     },
     "execution_count": 23,
     "metadata": {},
     "output_type": "execute_result"
    }
   ],
   "source": [
    "Rating['Text'] = Rating['Text'].apply(lambda text: remove_urls(text))\n",
    "Rating.head()"
   ]
  },
  {
   "cell_type": "code",
   "execution_count": 24,
   "metadata": {},
   "outputs": [
    {
     "data": {
      "text/html": [
       "<div>\n",
       "<style scoped>\n",
       "    .dataframe tbody tr th:only-of-type {\n",
       "        vertical-align: middle;\n",
       "    }\n",
       "\n",
       "    .dataframe tbody tr th {\n",
       "        vertical-align: top;\n",
       "    }\n",
       "\n",
       "    .dataframe thead th {\n",
       "        text-align: right;\n",
       "    }\n",
       "</style>\n",
       "<table border=\"1\" class=\"dataframe\">\n",
       "  <thead>\n",
       "    <tr style=\"text-align: right;\">\n",
       "      <th></th>\n",
       "      <th>Score</th>\n",
       "      <th>Text</th>\n",
       "    </tr>\n",
       "  </thead>\n",
       "  <tbody>\n",
       "    <tr>\n",
       "      <th>0</th>\n",
       "      <td>5</td>\n",
       "      <td>i bought several vitality canned dog food prod...</td>\n",
       "    </tr>\n",
       "    <tr>\n",
       "      <th>1</th>\n",
       "      <td>1</td>\n",
       "      <td>product arrived labeled jumbo salted peanuts.....</td>\n",
       "    </tr>\n",
       "    <tr>\n",
       "      <th>2</th>\n",
       "      <td>4</td>\n",
       "      <td>this confection around centuries. it light, pi...</td>\n",
       "    </tr>\n",
       "    <tr>\n",
       "      <th>3</th>\n",
       "      <td>2</td>\n",
       "      <td>if looking secret ingredient robitussin i beli...</td>\n",
       "    </tr>\n",
       "    <tr>\n",
       "      <th>4</th>\n",
       "      <td>5</td>\n",
       "      <td>great taffy great price. there wide assortment...</td>\n",
       "    </tr>\n",
       "  </tbody>\n",
       "</table>\n",
       "</div>"
      ],
      "text/plain": [
       "   Score                                               Text\n",
       "0      5  i bought several vitality canned dog food prod...\n",
       "1      1  product arrived labeled jumbo salted peanuts.....\n",
       "2      4  this confection around centuries. it light, pi...\n",
       "3      2  if looking secret ingredient robitussin i beli...\n",
       "4      5  great taffy great price. there wide assortment..."
      ]
     },
     "execution_count": 24,
     "metadata": {},
     "output_type": "execute_result"
    }
   ],
   "source": [
    "Rating['Text'] = Rating['Text'].apply(lambda text: text.lower())\n",
    "Rating.head()"
   ]
  },
  {
   "cell_type": "code",
   "execution_count": 25,
   "metadata": {},
   "outputs": [],
   "source": []
  },
  {
   "cell_type": "code",
   "execution_count": 26,
   "metadata": {},
   "outputs": [],
   "source": [
    "review_list =[]\n",
    "for index, rows in Rating.iterrows():\n",
    "    review_list.append(Rating['Text'].iloc[index])"
   ]
  },
  {
   "cell_type": "code",
   "execution_count": 27,
   "metadata": {},
   "outputs": [
    {
     "data": {
      "text/plain": [
       "TfidfVectorizer(max_features=100, min_df=10, ngram_range=(1, 3),\n",
       "                stop_words='english', strip_accents='unicode')"
      ]
     },
     "execution_count": 27,
     "metadata": {},
     "output_type": "execute_result"
    }
   ],
   "source": [
    "tfv = TfidfVectorizer(min_df=10,  max_features=100, \n",
    "            strip_accents='unicode', analyzer='word',\n",
    "            ngram_range=(1, 3),\n",
    "            stop_words = 'english')\n",
    "\n",
    "tfv.fit(review_list)"
   ]
  },
  {
   "cell_type": "code",
   "execution_count": 28,
   "metadata": {
    "scrolled": true
   },
   "outputs": [],
   "source": [
    "review_transformed = []\n",
    "for row in review_list:\n",
    "    review_transformed.append(tfv.transform([row]))"
   ]
  },
  {
   "cell_type": "code",
   "execution_count": 29,
   "metadata": {},
   "outputs": [],
   "source": [
    "review_vec = []\n",
    "for row in review_transformed:\n",
    "    review_vec.append(row.toarray()[0].tolist())\n",
    "#     break"
   ]
  },
  {
   "cell_type": "code",
   "execution_count": 30,
   "metadata": {},
   "outputs": [],
   "source": [
    "review_df = pd.DataFrame(review_vec)"
   ]
  },
  {
   "cell_type": "code",
   "execution_count": 31,
   "metadata": {},
   "outputs": [],
   "source": [
    "review_df['Score'] = Rating['Score']"
   ]
  },
  {
   "cell_type": "markdown",
   "metadata": {},
   "source": [
    "- We will train RandomForest, Logistic Regression and KNN algorithm for rating predictions"
   ]
  },
  {
   "cell_type": "code",
   "execution_count": 32,
   "metadata": {},
   "outputs": [],
   "source": [
    "def train_model(dataframe):\n",
    "    xtrain, xtest, ytrain, ytest = train_test_split(dataframe.iloc[:,:-1], dataframe.iloc[:,-1], \n",
    "                                                    test_size=0.2, random_state=42)\n",
    "    \n",
    "    lr = LogisticRegression()   \n",
    "    \n",
    "    lr.fit(xtrain, ytrain)\n",
    "    ytrain_pred = lr.predict(xtrain)\n",
    "    ytest_pred = lr.predict(xtest)\n",
    "    print('Logistic Regression Train  Confusion Matrix - \\n' + str(confusion_matrix(ytrain , ytrain_pred)))\n",
    "    print('Logistic Regression Test  Confusion Matrix - \\n' + str(confusion_matrix(ytest , ytest_pred)))\n",
    "    print('Logistic Regression Train Report - \\n' + str(classification_report(ytrain , ytrain_pred)))\n",
    "    print('Logistic Regression Test Report - \\n' + str(classification_report(ytest , ytest_pred)))\n",
    "    print('-------------------------------------------------------------------- \\n')\n",
    "    \n",
    "    mnb = MultinomialNB()\n",
    "    mnb.fit(xtrain, ytrain)\n",
    "    ytrain_pred = mnb.predict(xtrain)\n",
    "    ytest_pred = mnb.predict(xtest)\n",
    "    print('MultinomialNB Train  Confusion Matrix - \\n' + str(confusion_matrix(ytrain , ytrain_pred)))\n",
    "    print('MultinomialNB Test  Confusion Matrix - \\n' + str(confusion_matrix(ytest , ytest_pred)))\n",
    "    print('MultinomialNB Train Report - \\n' + str(classification_report(ytrain , ytrain_pred)))\n",
    "    print('MultinomialNB Test Report - \\n' + str(classification_report(ytest , ytest_pred)))\n",
    "    print('-------------------------------------------------------------------- \\n')\n",
    "    \n",
    "    \n",
    "    rf = RandomForestClassifier()\n",
    "    rf.fit(xtrain, ytrain)\n",
    "    ytrain_pred = rf.predict(xtrain)\n",
    "    ytest_pred = rf.predict(xtest)\n",
    "    print('Random Forest Train Confusion Matrix - \\n' + str(confusion_matrix(ytrain , ytrain_pred)))\n",
    "    print('Random Forest Test Confusion Matrix - \\n' + str(confusion_matrix(ytest , ytest_pred)))\n",
    "    print('Random Forest Train Report - \\n' + str(classification_report(ytrain , ytrain_pred)))\n",
    "    print('Random Forest Test Report - \\n' + str(classification_report(ytest , ytest_pred)))    \n",
    "    print('-------------------------------------------------------------------- \\n')"
   ]
  },
  {
   "cell_type": "code",
   "execution_count": null,
   "metadata": {},
   "outputs": [],
   "source": []
  },
  {
   "cell_type": "code",
   "execution_count": 33,
   "metadata": {
    "scrolled": false
   },
   "outputs": [
    {
     "name": "stdout",
     "output_type": "stream",
     "text": [
      "Logistic Regression Train  Confusion Matrix - \n",
      "[[  5897     68    266    117  22652]\n",
      " [  2088     73    320    205  14021]\n",
      " [  1815     45    614    689  20701]\n",
      " [  1365     21    493   1271  41751]\n",
      " [  3958     45    394   1008 194986]]\n",
      "Logistic Regression Test  Confusion Matrix - \n",
      "[[ 1493    21    73    26  5662]\n",
      " [  524    12    88    59  3402]\n",
      " [  453    13   184   190  5050]\n",
      " [  343     5   111   329 10353]\n",
      " [ 1045    10    98   225 48947]]\n",
      "Logistic Regression Train Report - \n",
      "              precision    recall  f1-score   support\n",
      "\n",
      "           1       0.39      0.20      0.27     29000\n",
      "           2       0.29      0.00      0.01     16707\n",
      "           3       0.29      0.03      0.05     23864\n",
      "           4       0.39      0.03      0.05     44901\n",
      "           5       0.66      0.97      0.79    200391\n",
      "\n",
      "    accuracy                           0.64    314863\n",
      "   macro avg       0.40      0.25      0.23    314863\n",
      "weighted avg       0.55      0.64      0.54    314863\n",
      "\n",
      "Logistic Regression Test Report - \n",
      "              precision    recall  f1-score   support\n",
      "\n",
      "           1       0.39      0.21      0.27      7275\n",
      "           2       0.20      0.00      0.01      4085\n",
      "           3       0.33      0.03      0.06      5890\n",
      "           4       0.40      0.03      0.05     11141\n",
      "           5       0.67      0.97      0.79     50325\n",
      "\n",
      "    accuracy                           0.65     78716\n",
      "   macro avg       0.40      0.25      0.24     78716\n",
      "weighted avg       0.55      0.65      0.54     78716\n",
      "\n",
      "-------------------------------------------------------------------- \n",
      "\n",
      "MultinomialNB Train  Confusion Matrix - \n",
      "[[    14      0      0      0  28986]\n",
      " [     4      0      0      0  16703]\n",
      " [     2      0      0      0  23862]\n",
      " [     3      0      0      0  44898]\n",
      " [     2      0      0      0 200389]]\n",
      "MultinomialNB Test  Confusion Matrix - \n",
      "[[    3     0     0     0  7272]\n",
      " [    0     0     0     0  4085]\n",
      " [    1     0     0     0  5889]\n",
      " [    0     0     0     0 11141]\n",
      " [    0     0     0     0 50325]]\n",
      "MultinomialNB Train Report - \n",
      "              precision    recall  f1-score   support\n",
      "\n",
      "           1       0.56      0.00      0.00     29000\n",
      "           2       0.00      0.00      0.00     16707\n",
      "           3       0.00      0.00      0.00     23864\n",
      "           4       0.00      0.00      0.00     44901\n",
      "           5       0.64      1.00      0.78    200391\n",
      "\n",
      "    accuracy                           0.64    314863\n",
      "   macro avg       0.24      0.20      0.16    314863\n",
      "weighted avg       0.46      0.64      0.50    314863\n",
      "\n",
      "MultinomialNB Test Report - \n",
      "              precision    recall  f1-score   support\n",
      "\n",
      "           1       0.75      0.00      0.00      7275\n",
      "           2       0.00      0.00      0.00      4085\n",
      "           3       0.00      0.00      0.00      5890\n",
      "           4       0.00      0.00      0.00     11141\n",
      "           5       0.64      1.00      0.78     50325\n",
      "\n",
      "    accuracy                           0.64     78716\n",
      "   macro avg       0.28      0.20      0.16     78716\n",
      "weighted avg       0.48      0.64      0.50     78716\n",
      "\n",
      "-------------------------------------------------------------------- \n",
      "\n",
      "Random Forest Train Confusion Matrix - \n",
      "[[ 26001     60     77    100   2762]\n",
      " [   185  15206     47     74   1195]\n",
      " [   210     39  21938    102   1575]\n",
      " [   213     46     88  41600   2954]\n",
      " [   618    104    117    307 199245]]\n",
      "Random Forest Test Confusion Matrix - \n",
      "[[ 1372    84   128   185  5506]\n",
      " [  453    55   102   138  3337]\n",
      " [  384    47   207   364  4888]\n",
      " [  303    45   122   643 10028]\n",
      " [  959   120   232   681 48333]]\n",
      "Random Forest Train Report - \n",
      "              precision    recall  f1-score   support\n",
      "\n",
      "           1       0.95      0.90      0.92     29000\n",
      "           2       0.98      0.91      0.95     16707\n",
      "           3       0.99      0.92      0.95     23864\n",
      "           4       0.99      0.93      0.96     44901\n",
      "           5       0.96      0.99      0.98    200391\n",
      "\n",
      "    accuracy                           0.97    314863\n",
      "   macro avg       0.97      0.93      0.95    314863\n",
      "weighted avg       0.97      0.97      0.97    314863\n",
      "\n",
      "Random Forest Test Report - \n",
      "              precision    recall  f1-score   support\n",
      "\n",
      "           1       0.40      0.19      0.26      7275\n",
      "           2       0.16      0.01      0.02      4085\n",
      "           3       0.26      0.04      0.06      5890\n",
      "           4       0.32      0.06      0.10     11141\n",
      "           5       0.67      0.96      0.79     50325\n",
      "\n",
      "    accuracy                           0.64     78716\n",
      "   macro avg       0.36      0.25      0.25     78716\n",
      "weighted avg       0.54      0.64      0.55     78716\n",
      "\n",
      "-------------------------------------------------------------------- \n",
      "\n"
     ]
    }
   ],
   "source": [
    "train_model(review_df)"
   ]
  },
  {
   "cell_type": "markdown",
   "metadata": {},
   "source": [
    "- Logistic Regression and MultinomialNB has very bad results.\n",
    "- RandomForest is getting overfit, lets try tuning the models"
   ]
  },
  {
   "cell_type": "code",
   "execution_count": null,
   "metadata": {},
   "outputs": [],
   "source": []
  },
  {
   "cell_type": "markdown",
   "metadata": {},
   "source": [
    "Instead of using Tf-IDF, now we will use bag of words for converting text into  vectors"
   ]
  },
  {
   "cell_type": "code",
   "execution_count": 57,
   "metadata": {},
   "outputs": [
    {
     "data": {
      "text/plain": [
       "CountVectorizer(max_features=100, min_df=10, ngram_range=(1, 3),\n",
       "                stop_words='english', strip_accents='unicode')"
      ]
     },
     "execution_count": 57,
     "metadata": {},
     "output_type": "execute_result"
    }
   ],
   "source": [
    "countVec = CountVectorizer(min_df=10,  max_features=100, \n",
    "            strip_accents='unicode', analyzer='word',\n",
    "            ngram_range=(1, 3),\n",
    "            stop_words = 'english')\n",
    "\n",
    "countVec.fit(review_list)"
   ]
  },
  {
   "cell_type": "code",
   "execution_count": 58,
   "metadata": {},
   "outputs": [],
   "source": [
    "review_transformed = []\n",
    "for row in review_list:\n",
    "    review_transformed.append(countVec.transform([row]))"
   ]
  },
  {
   "cell_type": "code",
   "execution_count": 59,
   "metadata": {},
   "outputs": [],
   "source": [
    "review_vec = []\n",
    "for row in review_transformed:\n",
    "    review_vec.append(row.toarray()[0].tolist())\n",
    "#     break"
   ]
  },
  {
   "cell_type": "code",
   "execution_count": 60,
   "metadata": {},
   "outputs": [],
   "source": [
    "review_df = pd.DataFrame(review_vec)"
   ]
  },
  {
   "cell_type": "code",
   "execution_count": 61,
   "metadata": {},
   "outputs": [],
   "source": [
    "review_df['Score'] = Rating['Score']"
   ]
  },
  {
   "cell_type": "code",
   "execution_count": 62,
   "metadata": {
    "scrolled": false
   },
   "outputs": [
    {
     "name": "stdout",
     "output_type": "stream",
     "text": [
      "Logistic Regression Train  Confusion Matrix - \n",
      "[[  4784    136    349    191  23540]\n",
      " [  1905    153    467    350  13832]\n",
      " [  1633    181    905   1079  20066]\n",
      " [  1159     95    836   2267  40544]\n",
      " [  2501    148    635   1993 195114]]\n",
      "Logistic Regression Test  Confusion Matrix - \n",
      "[[ 1233    44    94    42  5862]\n",
      " [  456    28   128    92  3381]\n",
      " [  417    32   248   297  4896]\n",
      " [  275    26   192   567 10081]\n",
      " [  655    40   201   501 48928]]\n",
      "Logistic Regression Train Report - \n",
      "              precision    recall  f1-score   support\n",
      "\n",
      "           1       0.40      0.16      0.23     29000\n",
      "           2       0.21      0.01      0.02     16707\n",
      "           3       0.28      0.04      0.07     23864\n",
      "           4       0.39      0.05      0.09     44901\n",
      "           5       0.67      0.97      0.79    200391\n",
      "\n",
      "    accuracy                           0.65    314863\n",
      "   macro avg       0.39      0.25      0.24    314863\n",
      "weighted avg       0.55      0.65      0.54    314863\n",
      "\n",
      "Logistic Regression Test Report - \n",
      "              precision    recall  f1-score   support\n",
      "\n",
      "           1       0.41      0.17      0.24      7275\n",
      "           2       0.16      0.01      0.01      4085\n",
      "           3       0.29      0.04      0.07      5890\n",
      "           4       0.38      0.05      0.09     11141\n",
      "           5       0.67      0.97      0.79     50325\n",
      "\n",
      "    accuracy                           0.65     78716\n",
      "   macro avg       0.38      0.25      0.24     78716\n",
      "weighted avg       0.55      0.65      0.55     78716\n",
      "\n",
      "-------------------------------------------------------------------- \n",
      "\n",
      "MultinomialNB Train  Confusion Matrix - \n",
      "[[  6252    443   1043    914  20348]\n",
      " [  2465    370   1131   1026  11715]\n",
      " [  2357    352   2070   2515  16570]\n",
      " [  2137    277   2162   5632  34693]\n",
      " [  6013    488   2771   9050 182069]]\n",
      "MultinomialNB Test  Confusion Matrix - \n",
      "[[ 1593    96   250   191  5145]\n",
      " [  604    84   235   266  2896]\n",
      " [  569    86   531   639  4065]\n",
      " [  523    57   556  1385  8620]\n",
      " [ 1588   131   674  2355 45577]]\n",
      "MultinomialNB Train Report - \n",
      "              precision    recall  f1-score   support\n",
      "\n",
      "           1       0.33      0.22      0.26     29000\n",
      "           2       0.19      0.02      0.04     16707\n",
      "           3       0.23      0.09      0.13     23864\n",
      "           4       0.29      0.13      0.18     44901\n",
      "           5       0.69      0.91      0.78    200391\n",
      "\n",
      "    accuracy                           0.62    314863\n",
      "   macro avg       0.34      0.27      0.28    314863\n",
      "weighted avg       0.54      0.62      0.56    314863\n",
      "\n",
      "MultinomialNB Test Report - \n",
      "              precision    recall  f1-score   support\n",
      "\n",
      "           1       0.33      0.22      0.26      7275\n",
      "           2       0.19      0.02      0.04      4085\n",
      "           3       0.24      0.09      0.13      5890\n",
      "           4       0.29      0.12      0.17     11141\n",
      "           5       0.69      0.91      0.78     50325\n",
      "\n",
      "    accuracy                           0.62     78716\n",
      "   macro avg       0.34      0.27      0.28     78716\n",
      "weighted avg       0.54      0.62      0.56     78716\n",
      "\n",
      "-------------------------------------------------------------------- \n",
      "\n",
      "Random Forest Train Confusion Matrix - \n",
      "[[ 26060     67     84    113   2676]\n",
      " [   183  15212     49     77   1186]\n",
      " [   190     42  21979    111   1542]\n",
      " [   217     45     84  41678   2877]\n",
      " [   619     99    130    344 199199]]\n",
      "Random Forest Test Confusion Matrix - \n",
      "[[ 1526   159   203   277  5110]\n",
      " [  514   101   144   206  3120]\n",
      " [  438    87   305   462  4598]\n",
      " [  363    71   215   810  9682]\n",
      " [ 1228   210   381  1167 47339]]\n",
      "Random Forest Train Report - \n",
      "              precision    recall  f1-score   support\n",
      "\n",
      "           1       0.96      0.90      0.93     29000\n",
      "           2       0.98      0.91      0.95     16707\n",
      "           3       0.98      0.92      0.95     23864\n",
      "           4       0.98      0.93      0.96     44901\n",
      "           5       0.96      0.99      0.98    200391\n",
      "\n",
      "    accuracy                           0.97    314863\n",
      "   macro avg       0.97      0.93      0.95    314863\n",
      "weighted avg       0.97      0.97      0.97    314863\n",
      "\n",
      "Random Forest Test Report - \n",
      "              precision    recall  f1-score   support\n",
      "\n",
      "           1       0.38      0.21      0.27      7275\n",
      "           2       0.16      0.02      0.04      4085\n",
      "           3       0.24      0.05      0.09      5890\n",
      "           4       0.28      0.07      0.12     11141\n",
      "           5       0.68      0.94      0.79     50325\n",
      "\n",
      "    accuracy                           0.64     78716\n",
      "   macro avg       0.35      0.26      0.26     78716\n",
      "weighted avg       0.53      0.64      0.55     78716\n",
      "\n",
      "-------------------------------------------------------------------- \n",
      "\n"
     ]
    }
   ],
   "source": [
    "train_model(review_df)"
   ]
  },
  {
   "cell_type": "markdown",
   "metadata": {},
   "source": [
    "- Results are same as TF-IDF, RandomForest is getting overfit.\n",
    "- Logistic Regression and Navie Bayers are not performing properly"
   ]
  },
  {
   "cell_type": "code",
   "execution_count": null,
   "metadata": {},
   "outputs": [],
   "source": []
  },
  {
   "cell_type": "code",
   "execution_count": null,
   "metadata": {},
   "outputs": [],
   "source": []
  },
  {
   "cell_type": "markdown",
   "metadata": {},
   "source": [
    "# Lets trying classifying the test using BERT Transformers"
   ]
  },
  {
   "cell_type": "markdown",
   "metadata": {},
   "source": [
    "I have tried training model using BERT pretrained model, but the model is taking 6 hours even for one epoch, I have stopped the training. This can be taken later"
   ]
  },
  {
   "cell_type": "code",
   "execution_count": 68,
   "metadata": {
    "scrolled": true
   },
   "outputs": [],
   "source": [
    "# from tensorflow.keras.utils import to_categorical"
   ]
  },
  {
   "cell_type": "code",
   "execution_count": 69,
   "metadata": {},
   "outputs": [],
   "source": [
    "# 314863*.30"
   ]
  },
  {
   "cell_type": "code",
   "execution_count": 70,
   "metadata": {},
   "outputs": [],
   "source": [
    "# Rating_sample = Rating.sample(20000, random_state= 42)"
   ]
  },
  {
   "cell_type": "code",
   "execution_count": null,
   "metadata": {},
   "outputs": [],
   "source": []
  },
  {
   "cell_type": "code",
   "execution_count": 71,
   "metadata": {},
   "outputs": [],
   "source": [
    "# xtrain, xtest, ytrain, ytest = train_test_split(Rating_sample['Text'], Rating_sample['Score'], \n",
    "#                                                     test_size=0.2, random_state=42)"
   ]
  },
  {
   "cell_type": "code",
   "execution_count": 72,
   "metadata": {},
   "outputs": [],
   "source": [
    "# xtrain.shape"
   ]
  },
  {
   "cell_type": "code",
   "execution_count": null,
   "metadata": {},
   "outputs": [],
   "source": []
  },
  {
   "cell_type": "code",
   "execution_count": 73,
   "metadata": {},
   "outputs": [],
   "source": [
    "# y_train = to_categorical(ytrain)\n",
    "# y_test = to_categorical(ytest)"
   ]
  },
  {
   "cell_type": "code",
   "execution_count": 74,
   "metadata": {
    "scrolled": true
   },
   "outputs": [],
   "source": [
    "# !pip install transformers\n",
    "# import transformers"
   ]
  },
  {
   "cell_type": "code",
   "execution_count": 76,
   "metadata": {},
   "outputs": [
    {
     "name": "stderr",
     "output_type": "stream",
     "text": [
      "Some layers from the model checkpoint at bert-base-cased were not used when initializing TFBertModel: ['nsp___cls', 'mlm___cls']\n",
      "- This IS expected if you are initializing TFBertModel from the checkpoint of a model trained on another task or with another architecture (e.g. initializing a BertForSequenceClassification model from a BertForPreTraining model).\n",
      "- This IS NOT expected if you are initializing TFBertModel from the checkpoint of a model that you expect to be exactly identical (initializing a BertForSequenceClassification model from a BertForSequenceClassification model).\n",
      "All the layers of TFBertModel were initialized from the model checkpoint at bert-base-cased.\n",
      "If your task is similar to the task the model of the checkpoint was trained on, you can already use TFBertModel for predictions without further training.\n"
     ]
    }
   ],
   "source": [
    "# from transformers import AutoTokenizer,TFBertModel\n",
    "# tokenizer = AutoTokenizer.from_pretrained('bert-base-cased')\n",
    "# bert = TFBertModel.from_pretrained('bert-base-cased')"
   ]
  },
  {
   "cell_type": "code",
   "execution_count": 52,
   "metadata": {},
   "outputs": [],
   "source": [
    "# xtrain_ = []\n",
    "# for index, rows in xtrain.iteritems():\n",
    "#     xtrain_.append(xtrain[index])"
   ]
  },
  {
   "cell_type": "code",
   "execution_count": 53,
   "metadata": {},
   "outputs": [],
   "source": [
    "# xtest_ = []\n",
    "# for index, rows in xtest.iteritems():\n",
    "#     xtest_.append(xtest[index])"
   ]
  },
  {
   "cell_type": "code",
   "execution_count": 54,
   "metadata": {},
   "outputs": [],
   "source": [
    "# x_train = tokenizer(\n",
    "#     text=xtrain_,\n",
    "#     add_special_tokens=True,\n",
    "#     max_length=70,\n",
    "#     truncation=True,\n",
    "#     padding=True, \n",
    "#     return_tensors='tf',\n",
    "#     return_token_type_ids = False,\n",
    "#     return_attention_mask = True,\n",
    "#     verbose = True)"
   ]
  },
  {
   "cell_type": "code",
   "execution_count": 55,
   "metadata": {},
   "outputs": [],
   "source": [
    "# x_test = tokenizer(\n",
    "#     text=xtest_,\n",
    "#     add_special_tokens=True,\n",
    "#     max_length=70,\n",
    "#     truncation=True,\n",
    "#     padding=True, \n",
    "#     return_tensors='tf',\n",
    "#     return_token_type_ids = False,\n",
    "#     return_attention_mask = True,\n",
    "#     verbose = True)"
   ]
  },
  {
   "cell_type": "code",
   "execution_count": 56,
   "metadata": {},
   "outputs": [],
   "source": [
    "# input_ids = x_train['input_ids']\n",
    "# attention_mask = x_train['attention_mask']"
   ]
  },
  {
   "cell_type": "code",
   "execution_count": null,
   "metadata": {},
   "outputs": [],
   "source": []
  },
  {
   "cell_type": "code",
   "execution_count": 62,
   "metadata": {},
   "outputs": [],
   "source": [
    "# import tensorflow as tf\n",
    "# from tensorflow.keras.optimizers import Adam\n",
    "# from tensorflow.keras.callbacks import EarlyStopping\n",
    "# from tensorflow.keras.initializers import TruncatedNormal\n",
    "# from tensorflow.keras.losses import CategoricalCrossentropy\n",
    "# from tensorflow.keras.metrics import CategoricalAccuracy\n",
    "# from tensorflow.keras.utils import to_categorical\n",
    "# from tensorflow.keras.layers import Input, Dense\n",
    "# import torch"
   ]
  },
  {
   "cell_type": "code",
   "execution_count": null,
   "metadata": {},
   "outputs": [],
   "source": []
  },
  {
   "cell_type": "code",
   "execution_count": 58,
   "metadata": {},
   "outputs": [],
   "source": [
    "# max_len = 70\n",
    "# input_ids = Input(shape=(max_len,), dtype=tf.int32, name=\"input_ids\")\n",
    "# input_mask = Input(shape=(max_len,), dtype=tf.int32, name=\"attention_mask\")\n",
    "# embeddings = bert(input_ids,attention_mask = input_mask)[0] \n",
    "# out = tf.keras.layers.GlobalMaxPool1D()(embeddings)\n",
    "# out = Dense(128, activation='relu')(out)\n",
    "# out = tf.keras.layers.Dropout(0.1)(out)\n",
    "# out = Dense(32,activation = 'relu')(out)\n",
    "# y = Dense(6,activation = 'sigmoid')(out)\n",
    "# model = tf.keras.Model(inputs=[input_ids, input_mask], outputs=y)\n",
    "# model.layers[2].trainable = True\n"
   ]
  },
  {
   "cell_type": "code",
   "execution_count": 59,
   "metadata": {},
   "outputs": [],
   "source": [
    "# optimizer = Adam(\n",
    "#     learning_rate=5e-05, # this learning rate is for bert model , taken from huggingface website \n",
    "#     epsilon=1e-08,\n",
    "#     decay=0.01,\n",
    "#     clipnorm=1.0)\n",
    "# loss =CategoricalCrossentropy(from_logits = True)\n",
    "# metric = CategoricalAccuracy('balanced_accuracy'),\n",
    "# model.compile(\n",
    "#     optimizer = optimizer,\n",
    "#     loss = loss, \n",
    "#     metrics = metric)"
   ]
  },
  {
   "cell_type": "code",
   "execution_count": 63,
   "metadata": {},
   "outputs": [],
   "source": [
    "# device = \"cuda:0\" if torch.cuda.is_available() else \"cpu\""
   ]
  },
  {
   "cell_type": "code",
   "execution_count": null,
   "metadata": {},
   "outputs": [],
   "source": []
  },
  {
   "cell_type": "code",
   "execution_count": null,
   "metadata": {},
   "outputs": [],
   "source": []
  },
  {
   "cell_type": "code",
   "execution_count": 60,
   "metadata": {},
   "outputs": [
    {
     "name": "stdout",
     "output_type": "stream",
     "text": [
      "WARNING:tensorflow:Gradients do not exist for variables ['tf_bert_model/bert/pooler/dense/kernel:0', 'tf_bert_model/bert/pooler/dense/bias:0'] when minimizing the loss.\n",
      "WARNING:tensorflow:Gradients do not exist for variables ['tf_bert_model/bert/pooler/dense/kernel:0', 'tf_bert_model/bert/pooler/dense/bias:0'] when minimizing the loss.\n",
      "  7/445 [..............................] - ETA: 3:00:27 - loss: 1.2624 - balanced_accuracy: 0.6389"
     ]
    },
    {
     "name": "stderr",
     "output_type": "stream",
     "text": [
      "ERROR:root:Internal Python error in the inspect module.\n",
      "Below is the traceback from this internal error.\n",
      "\n"
     ]
    },
    {
     "name": "stdout",
     "output_type": "stream",
     "text": [
      "Traceback (most recent call last):\n",
      "  File \"c:\\users\\wahee\\anaconda3\\envs\\gpu\\lib\\site-packages\\IPython\\core\\interactiveshell.py\", line 3331, in run_code\n",
      "    exec(code_obj, self.user_global_ns, self.user_ns)\n",
      "  File \"<ipython-input-60-f35a204c68e7>\", line 8, in <module>\n",
      "    batch_size=36\n",
      "  File \"C:\\Users\\wahee\\AppData\\Roaming\\Python\\Python36\\site-packages\\keras\\engine\\training.py\", line 1184, in fit\n",
      "    tmp_logs = self.train_function(iterator)\n",
      "  File \"C:\\Users\\wahee\\AppData\\Roaming\\Python\\Python36\\site-packages\\tensorflow\\python\\eager\\def_function.py\", line 885, in __call__\n",
      "    result = self._call(*args, **kwds)\n",
      "  File \"C:\\Users\\wahee\\AppData\\Roaming\\Python\\Python36\\site-packages\\tensorflow\\python\\eager\\def_function.py\", line 917, in _call\n",
      "    return self._stateless_fn(*args, **kwds)  # pylint: disable=not-callable\n",
      "  File \"C:\\Users\\wahee\\AppData\\Roaming\\Python\\Python36\\site-packages\\tensorflow\\python\\eager\\function.py\", line 3040, in __call__\n",
      "    filtered_flat_args, captured_inputs=graph_function.captured_inputs)  # pylint: disable=protected-access\n",
      "  File \"C:\\Users\\wahee\\AppData\\Roaming\\Python\\Python36\\site-packages\\tensorflow\\python\\eager\\function.py\", line 1964, in _call_flat\n",
      "    ctx, args, cancellation_manager=cancellation_manager))\n",
      "  File \"C:\\Users\\wahee\\AppData\\Roaming\\Python\\Python36\\site-packages\\tensorflow\\python\\eager\\function.py\", line 596, in call\n",
      "    ctx=ctx)\n",
      "  File \"C:\\Users\\wahee\\AppData\\Roaming\\Python\\Python36\\site-packages\\tensorflow\\python\\eager\\execute.py\", line 60, in quick_execute\n",
      "    inputs, attrs, num_outputs)\n",
      "KeyboardInterrupt\n",
      "\n",
      "During handling of the above exception, another exception occurred:\n",
      "\n",
      "Traceback (most recent call last):\n",
      "  File \"c:\\users\\wahee\\anaconda3\\envs\\gpu\\lib\\site-packages\\IPython\\core\\interactiveshell.py\", line 2044, in showtraceback\n",
      "    stb = value._render_traceback_()\n",
      "AttributeError: 'KeyboardInterrupt' object has no attribute '_render_traceback_'\n",
      "\n",
      "During handling of the above exception, another exception occurred:\n",
      "\n",
      "Traceback (most recent call last):\n",
      "  File \"c:\\users\\wahee\\anaconda3\\envs\\gpu\\lib\\site-packages\\IPython\\core\\ultratb.py\", line 1148, in get_records\n",
      "    return _fixed_getinnerframes(etb, number_of_lines_of_context, tb_offset)\n",
      "  File \"c:\\users\\wahee\\anaconda3\\envs\\gpu\\lib\\site-packages\\IPython\\core\\ultratb.py\", line 316, in wrapped\n",
      "    return f(*args, **kwargs)\n",
      "  File \"c:\\users\\wahee\\anaconda3\\envs\\gpu\\lib\\site-packages\\IPython\\core\\ultratb.py\", line 350, in _fixed_getinnerframes\n",
      "    records = fix_frame_records_filenames(inspect.getinnerframes(etb, context))\n",
      "  File \"c:\\users\\wahee\\anaconda3\\envs\\gpu\\lib\\inspect.py\", line 1490, in getinnerframes\n",
      "    frameinfo = (tb.tb_frame,) + getframeinfo(tb, context)\n",
      "  File \"c:\\users\\wahee\\anaconda3\\envs\\gpu\\lib\\inspect.py\", line 1448, in getframeinfo\n",
      "    filename = getsourcefile(frame) or getfile(frame)\n",
      "  File \"c:\\users\\wahee\\anaconda3\\envs\\gpu\\lib\\inspect.py\", line 693, in getsourcefile\n",
      "    if os.path.exists(filename):\n",
      "  File \"c:\\users\\wahee\\anaconda3\\envs\\gpu\\lib\\genericpath.py\", line 19, in exists\n",
      "    os.stat(path)\n",
      "KeyboardInterrupt\n"
     ]
    },
    {
     "ename": "KeyboardInterrupt",
     "evalue": "",
     "output_type": "error",
     "traceback": [
      "\u001b[1;31m---------------------------------------------------------------------------\u001b[0m"
     ]
    }
   ],
   "source": [
    "# train_history = model.fit(\n",
    "#     x ={'input_ids':x_train['input_ids'],'attention_mask':x_train['attention_mask']} ,\n",
    "#     y = y_train,\n",
    "#     validation_data = (\n",
    "#     {'input_ids':x_test['input_ids'],'attention_mask':x_test['attention_mask']}, y_test\n",
    "#     ),\n",
    "#   epochs=1,\n",
    "#     batch_size=36\n",
    "# )"
   ]
  },
  {
   "cell_type": "code",
   "execution_count": null,
   "metadata": {},
   "outputs": [],
   "source": [
    "# predicted_raw = model.predict({'input_ids':x_test['input_ids'],'attention_mask':x_test['attention_mask']})"
   ]
  },
  {
   "cell_type": "code",
   "execution_count": null,
   "metadata": {},
   "outputs": [],
   "source": [
    "# y_predicted = np.argmax(predicted_raw, axis = 1)"
   ]
  },
  {
   "cell_type": "code",
   "execution_count": null,
   "metadata": {},
   "outputs": [],
   "source": [
    "# print(classification_report(y_true, y_predicted))"
   ]
  },
  {
   "cell_type": "code",
   "execution_count": null,
   "metadata": {},
   "outputs": [],
   "source": []
  },
  {
   "cell_type": "code",
   "execution_count": null,
   "metadata": {},
   "outputs": [],
   "source": []
  }
 ],
 "metadata": {
  "kernelspec": {
   "display_name": "Python 3",
   "language": "python",
   "name": "python3"
  },
  "language_info": {
   "codemirror_mode": {
    "name": "ipython",
    "version": 3
   },
   "file_extension": ".py",
   "mimetype": "text/x-python",
   "name": "python",
   "nbconvert_exporter": "python",
   "pygments_lexer": "ipython3",
   "version": "3.6.12"
  }
 },
 "nbformat": 4,
 "nbformat_minor": 4
}
